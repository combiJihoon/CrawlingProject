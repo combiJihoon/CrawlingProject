{
 "cells": [
  {
   "cell_type": "code",
   "execution_count": 1,
   "metadata": {},
   "outputs": [],
   "source": [
    "from urllib.parse import quote_plus    # 한글 텍스트를 퍼센트 인코딩으로 변환\n",
    "from selenium import webdriver    # 라이브러리에서 사용하는 모듈만 호출\n",
    "from selenium.webdriver.common.by import By   # 해당 태그가 존재하는지 확인 -> # 사용 예시: (By.CLASS_NAME, 'list_title')\n",
    "from selenium.webdriver.support.ui import WebDriverWait   # 해당 태그를 기다림\n",
    "from selenium.webdriver.support import expected_conditions as EC\n",
    "from selenium.common.exceptions import TimeoutException    # 태그가 없는 예외 처리\n",
    "import time\n",
    "import pandas as pd"
   ]
  },
  {
   "cell_type": "code",
   "execution_count": 4,
   "metadata": {},
   "outputs": [],
   "source": [
    "chromedriver = '/Users/jihun/CrawlingProject/chromedriver'\n",
    "driver = webdriver.Chrome(chromedriver)"
   ]
  },
  {
   "cell_type": "code",
   "execution_count": null,
   "metadata": {},
   "outputs": [],
   "source": []
  }
 ],
 "metadata": {
  "kernelspec": {
   "display_name": "Python 3",
   "language": "python",
   "name": "python3"
  },
  "language_info": {
   "codemirror_mode": {
    "name": "ipython",
    "version": 3
   },
   "file_extension": ".py",
   "mimetype": "text/x-python",
   "name": "python",
   "nbconvert_exporter": "python",
   "pygments_lexer": "ipython3",
   "version": "3.8.3"
  }
 },
 "nbformat": 4,
 "nbformat_minor": 4
}
