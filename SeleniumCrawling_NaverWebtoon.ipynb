{
 "cells": [
  {
   "cell_type": "code",
   "execution_count": 1,
   "metadata": {},
   "outputs": [],
   "source": [
    "from urllib.parse import quote_plus    # 한글 텍스트를 퍼센트 인코딩으로 변환\n",
    "from selenium import webdriver    # 라이브러리에서 사용하는 모듈만 호출\n",
    "from selenium.webdriver.common.by import By   # 해당 태그가 존재하는지 확인 -> # 사용 예시: (By.CLASS_NAME, 'list_title')\n",
    "from selenium.webdriver.support.ui import WebDriverWait   # 해당 태그를 기다림\n",
    "from selenium.webdriver.support import expected_conditions as EC\n",
    "from selenium.common.exceptions import TimeoutException    # 태그가 없는 예외 처리\n",
    "import time\n",
    "import pandas as pd"
   ]
  },
  {
   "cell_type": "code",
   "execution_count": 4,
   "metadata": {},
   "outputs": [
    {
     "name": "stdout",
     "output_type": "stream",
     "text": [
      "요일을 입력해주세요.\n",
      "                 (요일 리스트 : mon, tue, wed, thu, fri, sat, sun) : thu\n"
     ]
    }
   ],
   "source": [
    "_input = input('''요일을 입력해주세요.\n",
    "                 (요일 리스트 : mon, tue, wed, thu, fri, sat, sun) : ''')\n",
    "user_input = quote_plus(_input)\n",
    "\n",
    "url = f'https://comic.naver.com/webtoon/weekdayList.nhn?week={user_input}'"
   ]
  },
  {
   "cell_type": "code",
   "execution_count": 7,
   "metadata": {},
   "outputs": [],
   "source": [
    "options = webdriver.ChromeOptions()\n",
    "options.add_argument('headless')    # 웹 브라우저를 띄우지 않는 headless chrome 옵션 적용\n",
    "options.add_argument('disable-gpu')    # GPU 사용 안함\n",
    "options.add_argument('lang=ko_KR')    # 언어 설정\n",
    "chromedriver = '/Users/jihun/CrawlingProject/helpers/chromedriver'\n",
    "driver = webdriver.Chrome(chromedriver, options = options)\n",
    "\n",
    "driver.get(url)"
   ]
  },
  {
   "cell_type": "code",
   "execution_count": null,
   "metadata": {},
   "outputs": [],
   "source": [
    "# try :\n",
    "#     element = WebDriverWait(driver, 3).until(\n",
    "#             EC.presence_of_element_located((By.CLASS_NAME, 'list_title')))\n",
    "\n",
    "#     pageNum = int(driver.find_element_by_class_name('_totalCount').text)\n",
    "\n",
    "#     theater_list = []\n",
    "\n",
    "#     count = 1\n",
    "    \n",
    "#     for i in range(1, pageNum+1) :\n",
    "#         theater_data = driver.find_elements_by_class_name('list_title')\n",
    "#         img_data = driver.find_elements_by_class_name('list_thumb')\n",
    "\n",
    "#         for theater in theater_data :\n",
    "#             theater_list.append(theater.text.split('\\n'))\n",
    "\n",
    "#         for img in img_data :\n",
    "#             img.screenshot(f'./images/{count}.png')\n",
    "#             count += 1\n",
    "\n",
    "#         driver.find_element_by_xpath(\"/html/body/div[3]/div[2]/div/div[1]/section[1]/div/div[2]/div/div[1]/div[4]/div[2]/div/a[2]\").click()\n",
    "#         time.sleep(2)\n",
    "\n",
    "# except TimeoutException :  # 예외 처리\n",
    "#     print('해당 페이지에 연극 정보가 존재하지 않습니다.')\n",
    "\n",
    "# finally:    # 정상, 예외 둘 중 하나여도 반드시 실행\n",
    "#     driver.quit()"
   ]
  }
 ],
 "metadata": {
  "kernelspec": {
   "display_name": "Python 3",
   "language": "python",
   "name": "python3"
  },
  "language_info": {
   "codemirror_mode": {
    "name": "ipython",
    "version": 3
   },
   "file_extension": ".py",
   "mimetype": "text/x-python",
   "name": "python",
   "nbconvert_exporter": "python",
   "pygments_lexer": "ipython3",
   "version": "3.8.3"
  }
 },
 "nbformat": 4,
 "nbformat_minor": 4
}
