{
 "cells": [
  {
   "cell_type": "code",
   "execution_count": 8,
   "metadata": {},
   "outputs": [],
   "source": [
    "from selenium import webdriver\n",
    "import time"
   ]
  },
  {
   "cell_type": "code",
   "execution_count": 2,
   "metadata": {},
   "outputs": [],
   "source": [
    "chromedriver = '/Users/jihun/CrawlingProject/chromedriver'\n",
    "driver = webdriver.Chrome(chromedriver)"
   ]
  },
  {
   "cell_type": "markdown",
   "metadata": {},
   "source": [
    "### Headless Chrome : 크롬 브라우저 화면을 띄우지 않고 제어가 가능"
   ]
  },
  {
   "cell_type": "code",
   "execution_count": 3,
   "metadata": {},
   "outputs": [],
   "source": [
    "# options = webdriver.ChromeOptions()\n",
    "# options.add_argument('headless')    # 웹 브라우저를 띄우지 않는 headless chrome 옵션 적용\n",
    "# options.add_argument('disable-gpu')    # GPU 사용 안함\n",
    "# options.add_argument('window-size=1920x1080')  # 윈도우 크기 설정\n",
    "# options.add_argument('lang=ko_KR')    # 언어 설정\n",
    "# driver = webdriver.Chrome(chromedriver, options=options) #  옵션 적용"
   ]
  },
  {
   "cell_type": "markdown",
   "metadata": {},
   "source": [
    "### driver 작동을 확인하기 위한 코드"
   ]
  },
  {
   "cell_type": "code",
   "execution_count": 7,
   "metadata": {},
   "outputs": [],
   "source": [
    "# driver.get('http://naver.com')\n",
    "# driver.implicitly_wait(3)\n",
    "# driver.get_screenshot_as_file('naver_main.png')"
   ]
  },
  {
   "cell_type": "code",
   "execution_count": null,
   "metadata": {},
   "outputs": [],
   "source": [
    "driver.find_element_by_xpath('//*[@id=\"main_pack\"]/section[1]/div/div[2]/div/div[1]/div[4]/div[2]/div/a[2]').click()\n",
    "print('클릭 완료')\n",
    "time.sleep(2)\n"
   ]
  }
 ],
 "metadata": {
  "kernelspec": {
   "display_name": "Python 3",
   "language": "python",
   "name": "python3"
  },
  "language_info": {
   "codemirror_mode": {
    "name": "ipython",
    "version": 3
   },
   "file_extension": ".py",
   "mimetype": "text/x-python",
   "name": "python",
   "nbconvert_exporter": "python",
   "pygments_lexer": "ipython3",
   "version": "3.8.3"
  }
 },
 "nbformat": 4,
 "nbformat_minor": 4
}
